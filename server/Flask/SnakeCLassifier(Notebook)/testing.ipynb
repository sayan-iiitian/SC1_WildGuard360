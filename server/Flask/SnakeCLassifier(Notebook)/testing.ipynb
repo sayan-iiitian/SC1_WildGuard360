{
 "cells": [
  {
   "cell_type": "code",
   "execution_count": 20,
   "id": "d57310d3",
   "metadata": {
    "_cell_guid": "b1076dfc-b9ad-4769-8c92-a6c4dae69d19",
    "_uuid": "8f2839f25d086af736a60e9eeb907d3b93b6e0e5",
    "execution": {
     "iopub.execute_input": "2023-05-03T13:36:22.411627Z",
     "iopub.status.busy": "2023-05-03T13:36:22.410810Z",
     "iopub.status.idle": "2023-05-03T13:36:42.348632Z",
     "shell.execute_reply": "2023-05-03T13:36:42.347130Z"
    },
    "papermill": {
     "duration": 19.946478,
     "end_time": "2023-05-03T13:36:42.351606",
     "exception": false,
     "start_time": "2023-05-03T13:36:22.405128",
     "status": "completed"
    },
    "tags": []
   },
   "outputs": [],
   "source": [
    "import tensorflow as tf\n",
    "import numpy as np \n",
    "from PIL import Image\n",
    "\n",
    "model = tf.saved_model.load('./input/model/Resnet50')\n",
    "classes = [ \"agkistrodon-contortrix\" ,  \"agkistrodon-piscivorus\" ,  \"coluber-constrictor\" ,  \n",
    "           \"crotalus-atrox\" ,  \"crotalus-horridus\" ,  \"crotalus-ruber\" ,  \"crotalus-scutulatus\" , \n",
    "           \"crotalus-viridis\" ,  \"diadophis-punctatus\" ,  \"haldea-striatula\" ,  \"heterodon-platirhinos\" ,\n",
    "           \"lampropeltis-californiae\" ,  \"lampropeltis-triangulum\" ,  \"masticophis-flagellum\" , \n",
    "           \"natrix-natrix\" ,  \"nerodia-erythrogaster\" ,  \"nerodia-fasciata\" ,  \"nerodia-rhombifer\" , \n",
    "           \"nerodia-sipedon\" ,  \"opheodrys-aestivus\" ,  \"pantherophis-alleghaniensis\" ,\n",
    "           \"pantherophis-emoryi\" ,  \"pantherophis-guttatus\" ,  \"pantherophis-obsoletus\" , \n",
    "           \"pantherophis-spiloides\" ,  \"pantherophis-vulpinus\" ,  \"pituophis-catenifer\" , \n",
    "           \"rhinocheilus-lecontei\" ,  \"storeria-dekayi\" ,  \"storeria-occipitomaculata\" , \n",
    "           \"thamnophis-elegans\" ,  \"thamnophis-marcianus\" ,  \"thamnophis-proximus\" ,\n",
    "           \"thamnophis-radix\" ,  \"thamnophis-sirtalis\" , ]"
   ]
  },
  {
   "cell_type": "code",
   "execution_count": 21,
   "id": "ff2ae22a",
   "metadata": {
    "execution": {
     "iopub.execute_input": "2023-05-03T13:36:42.359944Z",
     "iopub.status.busy": "2023-05-03T13:36:42.359547Z",
     "iopub.status.idle": "2023-05-03T13:36:42.411122Z",
     "shell.execute_reply": "2023-05-03T13:36:42.410027Z"
    },
    "papermill": {
     "duration": 0.058473,
     "end_time": "2023-05-03T13:36:42.413591",
     "exception": false,
     "start_time": "2023-05-03T13:36:42.355118",
     "status": "completed"
    },
    "tags": []
   },
   "outputs": [
    {
     "data": {
      "text/html": [
       "<div>\n",
       "<style scoped>\n",
       "    .dataframe tbody tr th:only-of-type {\n",
       "        vertical-align: middle;\n",
       "    }\n",
       "\n",
       "    .dataframe tbody tr th {\n",
       "        vertical-align: top;\n",
       "    }\n",
       "\n",
       "    .dataframe thead th {\n",
       "        text-align: right;\n",
       "    }\n",
       "</style>\n",
       "<table border=\"1\" class=\"dataframe\">\n",
       "  <thead>\n",
       "    <tr style=\"text-align: right;\">\n",
       "      <th></th>\n",
       "      <th>filename</th>\n",
       "      <th>label</th>\n",
       "    </tr>\n",
       "  </thead>\n",
       "  <tbody>\n",
       "    <tr>\n",
       "      <th>0</th>\n",
       "      <td>D:/Local Disk(D)/EDUCATION/Status Code 1/Snake...</td>\n",
       "      <td>thamnophis-marcianus</td>\n",
       "    </tr>\n",
       "    <tr>\n",
       "      <th>1</th>\n",
       "      <td>D:/Local Disk(D)/EDUCATION/Status Code 1/Snake...</td>\n",
       "      <td>nerodia-sipedon</td>\n",
       "    </tr>\n",
       "    <tr>\n",
       "      <th>2</th>\n",
       "      <td>D:/Local Disk(D)/EDUCATION/Status Code 1/Snake...</td>\n",
       "      <td>nerodia-rhombifer</td>\n",
       "    </tr>\n",
       "    <tr>\n",
       "      <th>3</th>\n",
       "      <td>D:/Local Disk(D)/EDUCATION/Status Code 1/Snake...</td>\n",
       "      <td>thamnophis-elegans</td>\n",
       "    </tr>\n",
       "    <tr>\n",
       "      <th>4</th>\n",
       "      <td>D:/Local Disk(D)/EDUCATION/Status Code 1/Snake...</td>\n",
       "      <td>crotalus-horridus</td>\n",
       "    </tr>\n",
       "  </tbody>\n",
       "</table>\n",
       "</div>"
      ],
      "text/plain": [
       "                                            filename                 label\n",
       "0  D:/Local Disk(D)/EDUCATION/Status Code 1/Snake...  thamnophis-marcianus\n",
       "1  D:/Local Disk(D)/EDUCATION/Status Code 1/Snake...       nerodia-sipedon\n",
       "2  D:/Local Disk(D)/EDUCATION/Status Code 1/Snake...     nerodia-rhombifer\n",
       "3  D:/Local Disk(D)/EDUCATION/Status Code 1/Snake...    thamnophis-elegans\n",
       "4  D:/Local Disk(D)/EDUCATION/Status Code 1/Snake...     crotalus-horridus"
      ]
     },
     "execution_count": 21,
     "metadata": {},
     "output_type": "execute_result"
    }
   ],
   "source": [
    "import pandas as pd\n",
    "test=pd.read_csv('./input/dataset2/test.csv')\n",
    "test.head()"
   ]
  },
  {
   "cell_type": "code",
   "execution_count": 22,
   "id": "2b6b22fc",
   "metadata": {
    "execution": {
     "iopub.execute_input": "2023-05-03T13:36:42.422686Z",
     "iopub.status.busy": "2023-05-03T13:36:42.422007Z",
     "iopub.status.idle": "2023-05-03T13:48:10.667843Z",
     "shell.execute_reply": "2023-05-03T13:48:10.666980Z"
    },
    "papermill": {
     "duration": 688.256208,
     "end_time": "2023-05-03T13:48:10.673285",
     "exception": false,
     "start_time": "2023-05-03T13:36:42.417077",
     "status": "completed"
    },
    "tags": []
   },
   "outputs": [
    {
     "name": "stderr",
     "output_type": "stream",
     "text": [
      "C:\\Users\\PRITHWISH\\AppData\\Local\\Temp\\ipykernel_2044\\564266034.py:4: DeprecationWarning: ANTIALIAS is deprecated and will be removed in Pillow 10 (2023-07-01). Use LANCZOS or Resampling.LANCZOS instead.\n",
      "  img = img.resize((300, 300 * img.size[1] // img.size[0]), Image.ANTIALIAS)\n"
     ]
    },
    {
     "data": {
      "text/plain": [
       "['thamnophis-marcianus',\n",
       " 'pantherophis-obsoletus',\n",
       " 'pantherophis-spiloides',\n",
       " 'thamnophis-sirtalis',\n",
       " 'pantherophis-spiloides']"
      ]
     },
     "execution_count": 22,
     "metadata": {},
     "output_type": "execute_result"
    }
   ],
   "source": [
    "result=[]\n",
    "for i in test.filename:\n",
    "    img = Image.open(i).convert('RGB')\n",
    "    img = img.resize((300, 300 * img.size[1] // img.size[0]), Image.ANTIALIAS)\n",
    "    inp_numpy = np.array(img)[None]\n",
    "    inp = tf.constant(inp_numpy, dtype='float32')\n",
    "    class_scores = model(inp)[0].numpy()\n",
    "    result.append(classes[class_scores.argmax()])\n",
    "result[:5]"
   ]
  },
  {
   "cell_type": "code",
   "execution_count": 23,
   "id": "e4620662",
   "metadata": {
    "execution": {
     "iopub.execute_input": "2023-05-03T13:48:10.682764Z",
     "iopub.status.busy": "2023-05-03T13:48:10.681405Z",
     "iopub.status.idle": "2023-05-03T13:48:10.693794Z",
     "shell.execute_reply": "2023-05-03T13:48:10.692958Z"
    },
    "papermill": {
     "duration": 0.019113,
     "end_time": "2023-05-03T13:48:10.695950",
     "exception": false,
     "start_time": "2023-05-03T13:48:10.676837",
     "status": "completed"
    },
    "tags": []
   },
   "outputs": [
    {
     "data": {
      "text/html": [
       "<div>\n",
       "<style scoped>\n",
       "    .dataframe tbody tr th:only-of-type {\n",
       "        vertical-align: middle;\n",
       "    }\n",
       "\n",
       "    .dataframe tbody tr th {\n",
       "        vertical-align: top;\n",
       "    }\n",
       "\n",
       "    .dataframe thead th {\n",
       "        text-align: right;\n",
       "    }\n",
       "</style>\n",
       "<table border=\"1\" class=\"dataframe\">\n",
       "  <thead>\n",
       "    <tr style=\"text-align: right;\">\n",
       "      <th></th>\n",
       "      <th>filename</th>\n",
       "      <th>label</th>\n",
       "      <th>prediction</th>\n",
       "    </tr>\n",
       "  </thead>\n",
       "  <tbody>\n",
       "    <tr>\n",
       "      <th>0</th>\n",
       "      <td>D:/Local Disk(D)/EDUCATION/Status Code 1/Snake...</td>\n",
       "      <td>thamnophis-marcianus</td>\n",
       "      <td>thamnophis-marcianus</td>\n",
       "    </tr>\n",
       "    <tr>\n",
       "      <th>1</th>\n",
       "      <td>D:/Local Disk(D)/EDUCATION/Status Code 1/Snake...</td>\n",
       "      <td>nerodia-sipedon</td>\n",
       "      <td>pantherophis-obsoletus</td>\n",
       "    </tr>\n",
       "    <tr>\n",
       "      <th>2</th>\n",
       "      <td>D:/Local Disk(D)/EDUCATION/Status Code 1/Snake...</td>\n",
       "      <td>nerodia-rhombifer</td>\n",
       "      <td>pantherophis-spiloides</td>\n",
       "    </tr>\n",
       "    <tr>\n",
       "      <th>3</th>\n",
       "      <td>D:/Local Disk(D)/EDUCATION/Status Code 1/Snake...</td>\n",
       "      <td>thamnophis-elegans</td>\n",
       "      <td>thamnophis-sirtalis</td>\n",
       "    </tr>\n",
       "    <tr>\n",
       "      <th>4</th>\n",
       "      <td>D:/Local Disk(D)/EDUCATION/Status Code 1/Snake...</td>\n",
       "      <td>crotalus-horridus</td>\n",
       "      <td>pantherophis-spiloides</td>\n",
       "    </tr>\n",
       "  </tbody>\n",
       "</table>\n",
       "</div>"
      ],
      "text/plain": [
       "                                            filename                 label  \\\n",
       "0  D:/Local Disk(D)/EDUCATION/Status Code 1/Snake...  thamnophis-marcianus   \n",
       "1  D:/Local Disk(D)/EDUCATION/Status Code 1/Snake...       nerodia-sipedon   \n",
       "2  D:/Local Disk(D)/EDUCATION/Status Code 1/Snake...     nerodia-rhombifer   \n",
       "3  D:/Local Disk(D)/EDUCATION/Status Code 1/Snake...    thamnophis-elegans   \n",
       "4  D:/Local Disk(D)/EDUCATION/Status Code 1/Snake...     crotalus-horridus   \n",
       "\n",
       "               prediction  \n",
       "0    thamnophis-marcianus  \n",
       "1  pantherophis-obsoletus  \n",
       "2  pantherophis-spiloides  \n",
       "3     thamnophis-sirtalis  \n",
       "4  pantherophis-spiloides  "
      ]
     },
     "execution_count": 23,
     "metadata": {},
     "output_type": "execute_result"
    }
   ],
   "source": [
    "test=test.assign(prediction=result)\n",
    "test.head()"
   ]
  },
  {
   "cell_type": "code",
   "execution_count": 24,
   "id": "c0c07881",
   "metadata": {
    "execution": {
     "iopub.execute_input": "2023-05-03T13:48:10.706209Z",
     "iopub.status.busy": "2023-05-03T13:48:10.704828Z",
     "iopub.status.idle": "2023-05-03T13:48:10.755502Z",
     "shell.execute_reply": "2023-05-03T13:48:10.754721Z"
    },
    "papermill": {
     "duration": 0.058152,
     "end_time": "2023-05-03T13:48:10.758049",
     "exception": false,
     "start_time": "2023-05-03T13:48:10.699897",
     "status": "completed"
    },
    "tags": []
   },
   "outputs": [
    {
     "data": {
      "text/html": [
       "<div>\n",
       "<style scoped>\n",
       "    .dataframe tbody tr th:only-of-type {\n",
       "        vertical-align: middle;\n",
       "    }\n",
       "\n",
       "    .dataframe tbody tr th {\n",
       "        vertical-align: top;\n",
       "    }\n",
       "\n",
       "    .dataframe thead th {\n",
       "        text-align: right;\n",
       "    }\n",
       "</style>\n",
       "<table border=\"1\" class=\"dataframe\">\n",
       "  <thead>\n",
       "    <tr style=\"text-align: right;\">\n",
       "      <th></th>\n",
       "      <th>filename</th>\n",
       "      <th>label</th>\n",
       "    </tr>\n",
       "  </thead>\n",
       "  <tbody>\n",
       "    <tr>\n",
       "      <th>0</th>\n",
       "      <td>D:/Local Disk(D)/EDUCATION/Status Code 1/Snake...</td>\n",
       "      <td>crotalus-scutulatus</td>\n",
       "    </tr>\n",
       "    <tr>\n",
       "      <th>1</th>\n",
       "      <td>D:/Local Disk(D)/EDUCATION/Status Code 1/Snake...</td>\n",
       "      <td>rhinocheilus-lecontei</td>\n",
       "    </tr>\n",
       "    <tr>\n",
       "      <th>2</th>\n",
       "      <td>D:/Local Disk(D)/EDUCATION/Status Code 1/Snake...</td>\n",
       "      <td>crotalus-atrox</td>\n",
       "    </tr>\n",
       "    <tr>\n",
       "      <th>3</th>\n",
       "      <td>D:/Local Disk(D)/EDUCATION/Status Code 1/Snake...</td>\n",
       "      <td>pituophis-catenifer</td>\n",
       "    </tr>\n",
       "    <tr>\n",
       "      <th>4</th>\n",
       "      <td>D:/Local Disk(D)/EDUCATION/Status Code 1/Snake...</td>\n",
       "      <td>pantherophis-emoryi</td>\n",
       "    </tr>\n",
       "  </tbody>\n",
       "</table>\n",
       "</div>"
      ],
      "text/plain": [
       "                                            filename                  label\n",
       "0  D:/Local Disk(D)/EDUCATION/Status Code 1/Snake...    crotalus-scutulatus\n",
       "1  D:/Local Disk(D)/EDUCATION/Status Code 1/Snake...  rhinocheilus-lecontei\n",
       "2  D:/Local Disk(D)/EDUCATION/Status Code 1/Snake...         crotalus-atrox\n",
       "3  D:/Local Disk(D)/EDUCATION/Status Code 1/Snake...    pituophis-catenifer\n",
       "4  D:/Local Disk(D)/EDUCATION/Status Code 1/Snake...    pantherophis-emoryi"
      ]
     },
     "execution_count": 24,
     "metadata": {},
     "output_type": "execute_result"
    }
   ],
   "source": [
    "train=pd.read_csv('./input/dataset2/train.csv')\n",
    "train.head()"
   ]
  },
  {
   "cell_type": "code",
   "execution_count": null,
   "id": "cc2e042f",
   "metadata": {
    "execution": {
     "iopub.execute_input": "2023-05-03T13:48:10.767351Z",
     "iopub.status.busy": "2023-05-03T13:48:10.766991Z",
     "iopub.status.idle": "2023-05-03T14:21:40.393554Z",
     "shell.execute_reply": "2023-05-03T14:21:40.392279Z"
    },
    "papermill": {
     "duration": 2009.636639,
     "end_time": "2023-05-03T14:21:40.398571",
     "exception": false,
     "start_time": "2023-05-03T13:48:10.761932",
     "status": "completed"
    },
    "tags": []
   },
   "outputs": [],
   "source": [
    "result=[]\n",
    "for i in train.filename:\n",
    "    img = Image.open(i).convert('RGB')\n",
    "    img = img.resize((300, 300 * img.size[1] // img.size[0]), Image.ANTIALIAS)\n",
    "    inp_numpy = np.array(img)[None]\n",
    "    inp = tf.constant(inp_numpy, dtype='float32')\n",
    "    class_scores = model(inp)[0].numpy()\n",
    "    result.append(classes[class_scores.argmax()])\n",
    "result[:5]"
   ]
  },
  {
   "cell_type": "code",
   "execution_count": null,
   "id": "d4060061",
   "metadata": {
    "execution": {
     "iopub.execute_input": "2023-05-03T14:21:40.408487Z",
     "iopub.status.busy": "2023-05-03T14:21:40.407989Z",
     "iopub.status.idle": "2023-05-03T14:21:40.421509Z",
     "shell.execute_reply": "2023-05-03T14:21:40.420365Z"
    },
    "papermill": {
     "duration": 0.021598,
     "end_time": "2023-05-03T14:21:40.423975",
     "exception": false,
     "start_time": "2023-05-03T14:21:40.402377",
     "status": "completed"
    },
    "tags": []
   },
   "outputs": [
    {
     "data": {
      "text/html": [
       "<div>\n",
       "<style scoped>\n",
       "    .dataframe tbody tr th:only-of-type {\n",
       "        vertical-align: middle;\n",
       "    }\n",
       "\n",
       "    .dataframe tbody tr th {\n",
       "        vertical-align: top;\n",
       "    }\n",
       "\n",
       "    .dataframe thead th {\n",
       "        text-align: right;\n",
       "    }\n",
       "</style>\n",
       "<table border=\"1\" class=\"dataframe\">\n",
       "  <thead>\n",
       "    <tr style=\"text-align: right;\">\n",
       "      <th></th>\n",
       "      <th>filename</th>\n",
       "      <th>label</th>\n",
       "      <th>prediction</th>\n",
       "    </tr>\n",
       "  </thead>\n",
       "  <tbody>\n",
       "    <tr>\n",
       "      <th>0</th>\n",
       "      <td>/kaggle/input/identifying-different-breeds-of-...</td>\n",
       "      <td>crotalus-scutulatus</td>\n",
       "      <td>crotalus-scutulatus</td>\n",
       "    </tr>\n",
       "    <tr>\n",
       "      <th>1</th>\n",
       "      <td>/kaggle/input/identifying-different-breeds-of-...</td>\n",
       "      <td>rhinocheilus-lecontei</td>\n",
       "      <td>rhinocheilus-lecontei</td>\n",
       "    </tr>\n",
       "    <tr>\n",
       "      <th>2</th>\n",
       "      <td>/kaggle/input/identifying-different-breeds-of-...</td>\n",
       "      <td>crotalus-atrox</td>\n",
       "      <td>crotalus-atrox</td>\n",
       "    </tr>\n",
       "    <tr>\n",
       "      <th>3</th>\n",
       "      <td>/kaggle/input/identifying-different-breeds-of-...</td>\n",
       "      <td>pituophis-catenifer</td>\n",
       "      <td>pituophis-catenifer</td>\n",
       "    </tr>\n",
       "    <tr>\n",
       "      <th>4</th>\n",
       "      <td>/kaggle/input/identifying-different-breeds-of-...</td>\n",
       "      <td>pantherophis-emoryi</td>\n",
       "      <td>pantherophis-vulpinus</td>\n",
       "    </tr>\n",
       "  </tbody>\n",
       "</table>\n",
       "</div>"
      ],
      "text/plain": [
       "                                            filename                  label  \\\n",
       "0  /kaggle/input/identifying-different-breeds-of-...    crotalus-scutulatus   \n",
       "1  /kaggle/input/identifying-different-breeds-of-...  rhinocheilus-lecontei   \n",
       "2  /kaggle/input/identifying-different-breeds-of-...         crotalus-atrox   \n",
       "3  /kaggle/input/identifying-different-breeds-of-...    pituophis-catenifer   \n",
       "4  /kaggle/input/identifying-different-breeds-of-...    pantherophis-emoryi   \n",
       "\n",
       "              prediction  \n",
       "0    crotalus-scutulatus  \n",
       "1  rhinocheilus-lecontei  \n",
       "2         crotalus-atrox  \n",
       "3    pituophis-catenifer  \n",
       "4  pantherophis-vulpinus  "
      ]
     },
     "execution_count": 7,
     "metadata": {},
     "output_type": "execute_result"
    }
   ],
   "source": [
    "train=train.assign(prediction=result)\n",
    "train.head()"
   ]
  },
  {
   "cell_type": "code",
   "execution_count": null,
   "id": "08126651",
   "metadata": {
    "execution": {
     "iopub.execute_input": "2023-05-03T14:21:40.434380Z",
     "iopub.status.busy": "2023-05-03T14:21:40.433883Z",
     "iopub.status.idle": "2023-05-03T14:21:41.676192Z",
     "shell.execute_reply": "2023-05-03T14:21:41.674516Z"
    },
    "papermill": {
     "duration": 1.250806,
     "end_time": "2023-05-03T14:21:41.679031",
     "exception": false,
     "start_time": "2023-05-03T14:21:40.428225",
     "status": "completed"
    },
    "tags": []
   },
   "outputs": [
    {
     "name": "stdout",
     "output_type": "stream",
     "text": [
      "                             precision    recall  f1-score   support\n",
      "\n",
      "     agkistrodon-contortrix       0.87      0.89      0.88       296\n",
      "     agkistrodon-piscivorus       0.98      0.50      0.66       333\n",
      "        coluber-constrictor       0.75      0.82      0.78       298\n",
      "             crotalus-atrox       0.63      0.94      0.76       337\n",
      "          crotalus-horridus       0.89      0.63      0.74       273\n",
      "             crotalus-ruber       0.98      0.43      0.60       261\n",
      "        crotalus-scutulatus       0.75      0.71      0.73       301\n",
      "           crotalus-viridis       0.76      0.75      0.76       288\n",
      "        diadophis-punctatus       0.85      0.96      0.90       301\n",
      "           haldea-striatula       0.80      0.84      0.82       303\n",
      "      heterodon-platirhinos       0.58      0.87      0.70       329\n",
      "   lampropeltis-californiae       0.88      0.84      0.86       296\n",
      "    lampropeltis-triangulum       0.86      0.91      0.88       334\n",
      "      masticophis-flagellum       0.91      0.70      0.79       305\n",
      "              natrix-natrix       0.84      0.74      0.79       335\n",
      "      nerodia-erythrogaster       0.58      0.83      0.69       284\n",
      "           nerodia-fasciata       0.77      0.75      0.76       309\n",
      "          nerodia-rhombifer       0.76      0.75      0.75       279\n",
      "            nerodia-sipedon       0.85      0.70      0.77       316\n",
      "         opheodrys-aestivus       0.92      0.93      0.93       309\n",
      "pantherophis-alleghaniensis       0.83      0.41      0.55       309\n",
      "        pantherophis-emoryi       0.94      0.51      0.66       268\n",
      "      pantherophis-guttatus       0.57      0.91      0.70       319\n",
      "     pantherophis-obsoletus       0.68      0.70      0.69       298\n",
      "     pantherophis-spiloides       0.70      0.57      0.63       302\n",
      "      pantherophis-vulpinus       0.68      0.81      0.74       291\n",
      "        pituophis-catenifer       0.77      0.81      0.79       300\n",
      "      rhinocheilus-lecontei       0.92      0.90      0.91       311\n",
      "            storeria-dekayi       0.77      0.90      0.83       309\n",
      "  storeria-occipitomaculata       0.82      0.85      0.83       307\n",
      "         thamnophis-elegans       0.83      0.60      0.69       277\n",
      "       thamnophis-marcianus       0.82      0.84      0.83       287\n",
      "        thamnophis-proximus       0.72      0.92      0.80       283\n",
      "           thamnophis-radix       0.66      0.88      0.75       272\n",
      "        thamnophis-sirtalis       0.78      0.67      0.72       328\n",
      "\n",
      "                   accuracy                           0.77     10548\n",
      "                  macro avg       0.79      0.76      0.76     10548\n",
      "               weighted avg       0.79      0.77      0.76     10548\n",
      "\n"
     ]
    }
   ],
   "source": [
    "from sklearn.metrics import classification_report\n",
    "print(classification_report(train['label'],train['prediction']))"
   ]
  },
  {
   "cell_type": "code",
   "execution_count": null,
   "id": "5736d947",
   "metadata": {
    "execution": {
     "iopub.execute_input": "2023-05-03T14:21:41.690670Z",
     "iopub.status.busy": "2023-05-03T14:21:41.689376Z",
     "iopub.status.idle": "2023-05-03T14:21:41.781908Z",
     "shell.execute_reply": "2023-05-03T14:21:41.779791Z"
    },
    "papermill": {
     "duration": 0.101051,
     "end_time": "2023-05-03T14:21:41.784391",
     "exception": false,
     "start_time": "2023-05-03T14:21:41.683340",
     "status": "completed"
    },
    "tags": []
   },
   "outputs": [
    {
     "name": "stdout",
     "output_type": "stream",
     "text": [
      "                             precision    recall  f1-score   support\n",
      "\n",
      "     agkistrodon-contortrix       0.79      0.88      0.83        64\n",
      "     agkistrodon-piscivorus       0.89      0.43      0.58        77\n",
      "        coluber-constrictor       0.60      0.61      0.61        87\n",
      "             crotalus-atrox       0.40      0.76      0.53        75\n",
      "          crotalus-horridus       0.90      0.63      0.74        86\n",
      "             crotalus-ruber       1.00      0.27      0.42        90\n",
      "        crotalus-scutulatus       0.61      0.58      0.59        73\n",
      "           crotalus-viridis       0.63      0.63      0.63        87\n",
      "        diadophis-punctatus       0.82      0.88      0.85        75\n",
      "           haldea-striatula       0.67      0.60      0.63        70\n",
      "      heterodon-platirhinos       0.40      0.77      0.53        66\n",
      "   lampropeltis-californiae       0.84      0.74      0.79        77\n",
      "    lampropeltis-triangulum       0.87      0.94      0.90        84\n",
      "      masticophis-flagellum       0.79      0.56      0.65        88\n",
      "              natrix-natrix       0.82      0.58      0.68        91\n",
      "      nerodia-erythrogaster       0.43      0.58      0.50        86\n",
      "           nerodia-fasciata       0.58      0.58      0.58        72\n",
      "          nerodia-rhombifer       0.61      0.59      0.60        81\n",
      "            nerodia-sipedon       0.63      0.59      0.61        54\n",
      "         opheodrys-aestivus       0.80      0.78      0.79        67\n",
      "pantherophis-alleghaniensis       0.52      0.20      0.29        66\n",
      "        pantherophis-emoryi       0.87      0.43      0.57        61\n",
      "      pantherophis-guttatus       0.51      0.89      0.65        80\n",
      "     pantherophis-obsoletus       0.43      0.43      0.43        77\n",
      "     pantherophis-spiloides       0.45      0.35      0.39        66\n",
      "      pantherophis-vulpinus       0.58      0.66      0.62        73\n",
      "        pituophis-catenifer       0.64      0.59      0.61        71\n",
      "      rhinocheilus-lecontei       0.83      0.78      0.80        67\n",
      "            storeria-dekayi       0.61      0.81      0.70        81\n",
      "  storeria-occipitomaculata       0.55      0.67      0.60        72\n",
      "         thamnophis-elegans       0.58      0.35      0.44        93\n",
      "       thamnophis-marcianus       0.63      0.76      0.69        62\n",
      "        thamnophis-proximus       0.59      0.77      0.67        75\n",
      "           thamnophis-radix       0.47      0.61      0.53        71\n",
      "        thamnophis-sirtalis       0.56      0.56      0.56        72\n",
      "\n",
      "                   accuracy                           0.62      2637\n",
      "                  macro avg       0.65      0.62      0.62      2637\n",
      "               weighted avg       0.66      0.62      0.62      2637\n",
      "\n"
     ]
    }
   ],
   "source": [
    "print(classification_report(test['label'],test['prediction']))"
   ]
  }
 ],
 "metadata": {
  "kernelspec": {
   "display_name": "Python 3",
   "language": "python",
   "name": "python3"
  },
  "language_info": {
   "codemirror_mode": {
    "name": "ipython",
    "version": 3
   },
   "file_extension": ".py",
   "mimetype": "text/x-python",
   "name": "python",
   "nbconvert_exporter": "python",
   "pygments_lexer": "ipython3",
   "version": "3.11.3"
  },
  "papermill": {
   "default_parameters": {},
   "duration": 2733.495508,
   "end_time": "2023-05-03T14:21:45.017259",
   "environment_variables": {},
   "exception": null,
   "input_path": "__notebook__.ipynb",
   "output_path": "__notebook__.ipynb",
   "parameters": {},
   "start_time": "2023-05-03T13:36:11.521751",
   "version": "2.4.0"
  }
 },
 "nbformat": 4,
 "nbformat_minor": 5
}
